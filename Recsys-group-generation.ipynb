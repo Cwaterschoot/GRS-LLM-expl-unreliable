{
 "cells": [
  {
   "cell_type": "code",
   "execution_count": 1,
   "metadata": {},
   "outputs": [],
   "source": [
    "import pandas as pd\n",
    "import random\n",
    "import os\n",
    "\n",
    "#user_ids = set()\n",
    "\n",
    "def generate_random_conf(n, m, r, u,verbose=False):\n",
    "    # n users, m items, r maximum rating (integers from 1 to r included)\n",
    "    group_conf = list()\n",
    "    i=0\n",
    "    while (i < n):\n",
    "        user_id = f\"user_{random.randint(1000, 99999)}\" # generate random userids and add them to the set so that we never have the same (just to be sure, would not be a problem normally)\n",
    "        while user_id in u:  \n",
    "            user_id = f\"user_{random.randint(1000, 99999)}\"\n",
    "        u.add(user_id)\n",
    "        \n",
    "        new_X = [random.randint(1, r) for i in range(m)]\n",
    "        \n",
    "        group_conf.append([user_id] + new_X)\n",
    "        i +=1\n",
    "        if verbose:\n",
    "            print(f\"User {user_id}: {new_X}\")\n",
    "    \n",
    "    column_names = ['user_id'] + [f'item_{random.randint(1000, 99999)}' for x in range(1, m + 1)]\n",
    "    df = pd.DataFrame(group_conf, columns=column_names)\n",
    "    return df\n",
    "\n",
    "\n"
   ]
  },
  {
   "cell_type": "code",
   "execution_count": 2,
   "metadata": {},
   "outputs": [],
   "source": [
    "user_ids = set()\n"
   ]
  },
  {
   "cell_type": "code",
   "execution_count": null,
   "metadata": {},
   "outputs": [],
   "source": [
    "random.seed(123456) \n",
    "\n",
    "\n",
    "groupId = 1\n",
    "total = 1000\n",
    "\n",
    "num_members = [4]\n",
    "num_items = [25,50,75] \n",
    "max_rating = 100\n",
    "\n",
    "\n",
    "m = num_items[0] ### different group.csv file to have nice columns per item. Pick item size to generate file \n",
    "\n",
    "# name new csv file based on group compositions\n",
    "file = f'groups/groups_{num_members}members_{num_items}items_totalgroups{total}.csv'\n",
    "\n",
    "result_exists = os.path.isfile(file)\n",
    "\n",
    "\n",
    "\n",
    "while groupId <= total:\n",
    "    n = random.choice(num_members)\n",
    "    new_group = generate_random_conf(n, m, max_rating, user_ids) \n",
    "\n",
    "    # Quick fix to ensure that groupIds are unique across csv files (groups with 25 items from 1 to 1000, 50 item groups from 1001 to 2000 etc)\n",
    "    \n",
    "    if m==25: \n",
    "        new_group['groupId'] = groupId \n",
    "    elif m==50:\n",
    "        new_group['groupId'] = groupId +1000\n",
    "    else:\n",
    "        new_group['groupId'] = groupId +2000\n",
    "    new_group.to_csv(file, mode='a', index=False, header=not result_exists)\n",
    "    result_exists = True\n",
    "    groupId += 1\n",
    "    "
   ]
  }
 ],
 "metadata": {
  "kernelspec": {
   "display_name": "Python 3",
   "language": "python",
   "name": "python3"
  },
  "language_info": {
   "codemirror_mode": {
    "name": "ipython",
    "version": 3
   },
   "file_extension": ".py",
   "mimetype": "text/x-python",
   "name": "python",
   "nbconvert_exporter": "python",
   "pygments_lexer": "ipython3",
   "version": "3.12.7"
  }
 },
 "nbformat": 4,
 "nbformat_minor": 2
}
